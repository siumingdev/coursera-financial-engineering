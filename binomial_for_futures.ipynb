{
  "nbformat": 4,
  "nbformat_minor": 0,
  "metadata": {
    "colab": {
      "provenance": [],
      "authorship_tag": "ABX9TyOWDwXTTApnX07Y0z6uQ1XV",
      "include_colab_link": true
    },
    "kernelspec": {
      "name": "python3",
      "display_name": "Python 3"
    },
    "language_info": {
      "name": "python"
    }
  },
  "cells": [
    {
      "cell_type": "markdown",
      "metadata": {
        "id": "view-in-github",
        "colab_type": "text"
      },
      "source": [
        "<a href=\"https://colab.research.google.com/github/siumingdev/coursera-financial-engineering/blob/main/binomial_for_futures.ipynb\" target=\"_parent\"><img src=\"https://colab.research.google.com/assets/colab-badge.svg\" alt=\"Open In Colab\"/></a>"
      ]
    },
    {
      "cell_type": "code",
      "execution_count": 1,
      "metadata": {
        "id": "l9uWlTfYMkRH"
      },
      "outputs": [],
      "source": [
        "import numpy as np"
      ]
    },
    {
      "cell_type": "code",
      "source": [
        "def binomial_future_price(\n",
        "    S_0: float,\n",
        "    T: float,\n",
        "    r: float,\n",
        "    vol: float,\n",
        "    N: int\n",
        ") -> float:\n",
        "    \"\"\"\n",
        "    Prices an American option using a binomial tree.\n",
        "\n",
        "    Args:\n",
        "        T: Time to maturity.\n",
        "        S_0: Initial spot price.\n",
        "        r: Risk-free interest rate.\n",
        "        vol: Volatility.\n",
        "        N: Number of time steps.\n",
        "\n",
        "    Returns:\n",
        "        The price of the American option.\n",
        "    \"\"\"\n",
        "\n",
        "    delta_t = T / N\n",
        "    u = np.exp(vol * np.sqrt(delta_t))\n",
        "    d = 1 / u\n",
        "    q = (np.exp(r * delta_t) - d) / (u - d)\n",
        "    R = np.exp(r * delta_t)\n",
        "\n",
        "    S =  S_0 * np.power(u, N - np.arange(N + 1)) * np.power(d, np.arange(N + 1))\n",
        "\n",
        "    for i in range(N - 1, -1, -1):\n",
        "        S = (q * S[:-1] + (1 - q) * S[1:])\n",
        "\n",
        "    return S[0]\n",
        "\n",
        "def continuous_compound_future_price(\n",
        "    S_0: float,\n",
        "    T: float,\n",
        "    r: float\n",
        ") -> float:\n",
        "    return S_0 * np.exp(r * T)\n",
        "\n",
        "def compound_future_price(\n",
        "    S_0: float,\n",
        "    T: float,\n",
        "    r: float,\n",
        "    N: int\n",
        ") -> float:\n",
        "    return S_0 * np.power((1 + r * T / N), N)"
      ],
      "metadata": {
        "id": "uoksaLCONGH5"
      },
      "execution_count": 16,
      "outputs": []
    },
    {
      "cell_type": "code",
      "source": [
        "binomial_future_price(100, 1, 1.02, 0.3, 100)"
      ],
      "metadata": {
        "colab": {
          "base_uri": "https://localhost:8080/"
        },
        "id": "1r-S4lKANqDR",
        "outputId": "da3cb860-bdfc-425b-9615-c089d274c83d"
      },
      "execution_count": 15,
      "outputs": [
        {
          "output_type": "execute_result",
          "data": {
            "text/plain": [
              "277.3194763964285"
            ]
          },
          "metadata": {},
          "execution_count": 15
        }
      ]
    },
    {
      "cell_type": "code",
      "source": [
        "binomial_future_price(100, 1, 1.02, 0.9, 100)"
      ],
      "metadata": {
        "colab": {
          "base_uri": "https://localhost:8080/"
        },
        "id": "6j9skuAJQTwV",
        "outputId": "80b51e3f-1790-432f-dd10-5ef19cab06eb"
      },
      "execution_count": 18,
      "outputs": [
        {
          "output_type": "execute_result",
          "data": {
            "text/plain": [
              "277.31947639642834"
            ]
          },
          "metadata": {},
          "execution_count": 18
        }
      ]
    },
    {
      "cell_type": "code",
      "source": [
        "continuous_compound_future_price(100, 1, 1.02)"
      ],
      "metadata": {
        "colab": {
          "base_uri": "https://localhost:8080/"
        },
        "id": "xbZdZxpaOImu",
        "outputId": "ffcf1dd2-c3c7-4cb7-9d37-8981f9471acc"
      },
      "execution_count": 8,
      "outputs": [
        {
          "output_type": "execute_result",
          "data": {
            "text/plain": [
              "277.31947639642976"
            ]
          },
          "metadata": {},
          "execution_count": 8
        }
      ]
    },
    {
      "cell_type": "code",
      "source": [
        "compound_future_price(100, 1, 1.02, 100)"
      ],
      "metadata": {
        "colab": {
          "base_uri": "https://localhost:8080/"
        },
        "id": "18HdjDkLOTen",
        "outputId": "eda4c87e-50e2-46c6-8bea-f3bac92d4e0c"
      },
      "execution_count": 23,
      "outputs": [
        {
          "output_type": "execute_result",
          "data": {
            "text/plain": [
              "275.89029123502894"
            ]
          },
          "metadata": {},
          "execution_count": 23
        }
      ]
    },
    {
      "cell_type": "code",
      "source": [],
      "metadata": {
        "id": "rBYosSKWO8Gj"
      },
      "execution_count": null,
      "outputs": []
    }
  ]
}