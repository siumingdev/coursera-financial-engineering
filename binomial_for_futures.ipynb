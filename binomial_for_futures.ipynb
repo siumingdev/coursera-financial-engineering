{
  "nbformat": 4,
  "nbformat_minor": 0,
  "metadata": {
    "colab": {
      "provenance": [],
      "authorship_tag": "ABX9TyN2qlfRn+TPOeJDfijvqW5Z",
      "include_colab_link": true
    },
    "kernelspec": {
      "name": "python3",
      "display_name": "Python 3"
    },
    "language_info": {
      "name": "python"
    }
  },
  "cells": [
    {
      "cell_type": "markdown",
      "metadata": {
        "id": "view-in-github",
        "colab_type": "text"
      },
      "source": [
        "<a href=\"https://colab.research.google.com/github/siumingdev/coursera-financial-engineering/blob/main/binomial_for_futures.ipynb\" target=\"_parent\"><img src=\"https://colab.research.google.com/assets/colab-badge.svg\" alt=\"Open In Colab\"/></a>"
      ]
    },
    {
      "cell_type": "code",
      "execution_count": null,
      "metadata": {
        "id": "l9uWlTfYMkRH"
      },
      "outputs": [],
      "source": [
        "import numpy as np"
      ]
    },
    {
      "cell_type": "code",
      "source": [
        "def binomial_future_price(\n",
        "    S_0: float,\n",
        "    T: float,\n",
        "    r: float,\n",
        "    vol: float,\n",
        "    N: int\n",
        ") -> float:\n",
        "    \"\"\"\n",
        "    Prices an American option using a binomial tree.\n",
        "\n",
        "    Args:\n",
        "        T: Time to maturity.\n",
        "        S_0: Initial spot price.\n",
        "        r: Risk-free interest rate.\n",
        "        vol: Volatility.\n",
        "        N: Number of time steps.\n",
        "\n",
        "    Returns:\n",
        "        The price of the American option.\n",
        "    \"\"\"\n",
        "\n",
        "    delta_t = T / N\n",
        "    u = np.exp(vol * np.sqrt(delta_t))\n",
        "    d = 1 / u\n",
        "    q = (np.exp(r * delta_t) - d) / (u - d)\n",
        "    R = np.exp(r * delta_t)\n",
        "\n",
        "    S =  S_0 * np.power(u, N - np.arange(N + 1)) * np.power(d, np.arange(N + 1))\n",
        "\n",
        "    for i in range(N - 1, -1, -1):\n",
        "        S = (q * S[:-1] + (1 - q) * S[1:])\n",
        "\n",
        "    return S[0]\n",
        "\n",
        "def continuous_compound_future_price(\n",
        "    S_0: float,\n",
        "    T: float,\n",
        "    r: float\n",
        ") -> float:\n",
        "    return S_0 * np.exp(r * T)\n",
        "\n",
        "def compound_future_price(\n",
        "    S_0: float,\n",
        "    T: float,\n",
        "    r: float,\n",
        "    N: int\n",
        ") -> float:\n",
        "    return S_0 * np.power((1 + r * T / N), N)"
      ],
      "metadata": {
        "id": "uoksaLCONGH5"
      },
      "execution_count": null,
      "outputs": []
    },
    {
      "cell_type": "code",
      "source": [
        "binomial_future_price(100, 1, 0.09, 0.3, 100)"
      ],
      "metadata": {
        "colab": {
          "base_uri": "https://localhost:8080/"
        },
        "id": "1r-S4lKANqDR",
        "outputId": "d4dfdf03-f98f-45a7-cbba-9ef509da543f"
      },
      "execution_count": 32,
      "outputs": [
        {
          "output_type": "execute_result",
          "data": {
            "text/plain": [
              "109.41742837052092"
            ]
          },
          "metadata": {},
          "execution_count": 32
        }
      ]
    },
    {
      "cell_type": "code",
      "source": [
        "binomial_future_price(100, 1, 0.09, 0.3, 10)"
      ],
      "metadata": {
        "colab": {
          "base_uri": "https://localhost:8080/"
        },
        "id": "tdFy6FqZV4s0",
        "outputId": "afd5708b-a4eb-40a5-aa62-a920b82c42c0"
      },
      "execution_count": 33,
      "outputs": [
        {
          "output_type": "execute_result",
          "data": {
            "text/plain": [
              "109.4174283705211"
            ]
          },
          "metadata": {},
          "execution_count": 33
        }
      ]
    },
    {
      "cell_type": "code",
      "source": [
        "binomial_future_price(100, 1, 0.09, 0.9, 100)"
      ],
      "metadata": {
        "colab": {
          "base_uri": "https://localhost:8080/"
        },
        "id": "6j9skuAJQTwV",
        "outputId": "cdef5446-9a4f-49e1-f794-7ed966c31029"
      },
      "execution_count": 34,
      "outputs": [
        {
          "output_type": "execute_result",
          "data": {
            "text/plain": [
              "109.41742837052038"
            ]
          },
          "metadata": {},
          "execution_count": 34
        }
      ]
    },
    {
      "cell_type": "code",
      "source": [
        "continuous_compound_future_price(100, 1, 0.09)"
      ],
      "metadata": {
        "colab": {
          "base_uri": "https://localhost:8080/"
        },
        "id": "xbZdZxpaOImu",
        "outputId": "dc892dc6-7c0e-467f-8e9a-8e40891ab6a4"
      },
      "execution_count": 35,
      "outputs": [
        {
          "output_type": "execute_result",
          "data": {
            "text/plain": [
              "109.41742837052104"
            ]
          },
          "metadata": {},
          "execution_count": 35
        }
      ]
    },
    {
      "cell_type": "code",
      "source": [
        "compound_future_price(100, 1, 0.09, 100)"
      ],
      "metadata": {
        "colab": {
          "base_uri": "https://localhost:8080/"
        },
        "id": "18HdjDkLOTen",
        "outputId": "04e07eb9-f875-452e-ea6d-7ca07ba609e9"
      },
      "execution_count": 36,
      "outputs": [
        {
          "output_type": "execute_result",
          "data": {
            "text/plain": [
              "109.41299971134822"
            ]
          },
          "metadata": {},
          "execution_count": 36
        }
      ]
    },
    {
      "cell_type": "code",
      "source": [],
      "metadata": {
        "id": "rBYosSKWO8Gj"
      },
      "execution_count": null,
      "outputs": []
    }
  ]
}