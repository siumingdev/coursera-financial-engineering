{
  "nbformat": 4,
  "nbformat_minor": 0,
  "metadata": {
    "colab": {
      "provenance": [],
      "authorship_tag": "ABX9TyMyDRipJRhoSvwQA0mbSaf/",
      "include_colab_link": true
    },
    "kernelspec": {
      "name": "python3",
      "display_name": "Python 3"
    },
    "language_info": {
      "name": "python"
    }
  },
  "cells": [
    {
      "cell_type": "markdown",
      "metadata": {
        "id": "view-in-github",
        "colab_type": "text"
      },
      "source": [
        "<a href=\"https://colab.research.google.com/github/siumingdev/coursera-financial-engineering/blob/main/course_1_option_pricing_binomial_model.ipynb\" target=\"_parent\"><img src=\"https://colab.research.google.com/assets/colab-badge.svg\" alt=\"Open In Colab\"/></a>"
      ]
    },
    {
      "cell_type": "markdown",
      "source": [
        "# Option Pricing in the Multi-Period Binomial Model\n"
      ],
      "metadata": {
        "id": "g4QuXSkD0hzy"
      }
    },
    {
      "cell_type": "code",
      "source": [
        "import numpy as np"
      ],
      "metadata": {
        "id": "gPVWMuvvuJzl"
      },
      "execution_count": 4,
      "outputs": []
    },
    {
      "cell_type": "code",
      "source": [
        "def format_float_array(arr: np.ndarray) -> str:\n",
        "    return \"[\" + \", \".join(f\"{a:.2f}\" for a in arr) + \"]\""
      ],
      "metadata": {
        "id": "Kw7h4rVAlQni"
      },
      "execution_count": 5,
      "outputs": []
    },
    {
      "cell_type": "code",
      "execution_count": 17,
      "metadata": {
        "id": "1O5b-7JabXPY"
      },
      "outputs": [],
      "source": [
        "def option_price(\n",
        "    K: float,\n",
        "    T: float,\n",
        "    S_0: float,\n",
        "    r: float,\n",
        "    vol: float,\n",
        "    c: float,\n",
        "    is_put: bool,\n",
        "    is_american: bool,\n",
        "    use_future_price: bool,\n",
        "    N: int,\n",
        "    print_details: bool = False\n",
        ") -> float:\n",
        "    \"\"\"\n",
        "    Prices an American option using a binomial tree.\n",
        "\n",
        "    Args:\n",
        "        K: Strike price.\n",
        "        T: Time to maturity.\n",
        "        S_0: Initial underlying price.\n",
        "        r: Risk-free interest rate.\n",
        "        vol: Volatility.\n",
        "        c: Dividend yield.\n",
        "        is_put: True for a put option, False for a call.\n",
        "        is_american: True for an American option, False for a European option.\n",
        "        use_future_price: True to use the future price of the underlying as the initial price.\n",
        "        N: Number of time steps.\n",
        "        print_details: Whether to print intermediate calculations.\n",
        "\n",
        "    Returns:\n",
        "        The price of the American option.\n",
        "    \"\"\"\n",
        "\n",
        "    delta_t = T / N\n",
        "    u = np.exp(vol * np.sqrt(delta_t))\n",
        "    d = 1 / u\n",
        "    q = (np.exp((r - c) * delta_t) - d) / (u - d)\n",
        "    R = np.exp(r * delta_t)\n",
        "\n",
        "    def get_underlying_prices(i) -> np.ndarray:\n",
        "        return S_0 * np.power(u, i - np.arange(i + 1)) * np.power(d, np.arange(i + 1))\n",
        "\n",
        "    def get_payoffs(S: np.ndarray) -> np.ndarray:\n",
        "        return np.maximum(K - S, 0) if is_put else np.maximum(S - K, 0)\n",
        "\n",
        "    # Initialize underlying prices at maturity\n",
        "    S = get_underlying_prices(N)\n",
        "\n",
        "    # Initialize option values at maturity\n",
        "    C = get_payoffs(S)\n",
        "\n",
        "    if print_details:\n",
        "        print(f\"Stock Price at maturity: {format_float_array(S)}\")\n",
        "        print(f\"Option Value at maturity: {format_float_array(C)}\")\n",
        "\n",
        "    # Work backwards through the tree\n",
        "    for i in range(N - 1, -1, -1):\n",
        "        C_no_early_ex = (q * C[:-1] + (1 - q) * C[1:]) / R\n",
        "        if is_american:\n",
        "            S = (q * S[:-1] + (1 - q) * S[1:]) if use_future_price else get_underlying_prices(i)\n",
        "            payoffs = get_payoffs(S)\n",
        "            should_early_ex = payoffs > C_no_early_ex\n",
        "            C = np.where(should_early_ex, payoffs, C_no_early_ex)\n",
        "        else:\n",
        "            C = C_no_early_ex\n",
        "\n",
        "        if print_details:\n",
        "            print(f\"Step: {i}\")\n",
        "            print(f\"Stock Price: {format_float_array(S)}\")\n",
        "            print(f\"Option Value: {format_float_array(C)}\")\n",
        "            if is_american:\n",
        "                print(f\"Option Value (no early exercise): {format_float_array(C_no_early_ex)}\")\n",
        "                print(f\"Early Exercise: {should_early_ex}\")\n",
        "\n",
        "    return C[0]\n"
      ]
    },
    {
      "cell_type": "code",
      "source": [
        "K = 110\n",
        "T = 0.25\n",
        "S_0 = 100\n",
        "r = 0.02\n",
        "vol = 0.3\n",
        "c = 0.01"
      ],
      "metadata": {
        "id": "p7LSTn738Lku"
      },
      "execution_count": 18,
      "outputs": []
    },
    {
      "cell_type": "code",
      "source": [
        "# Q1\n",
        "call_price = option_price(\n",
        "    K=K,\n",
        "    T=T,\n",
        "    S_0=S_0,\n",
        "    r=r,\n",
        "    vol=vol,\n",
        "    c=c,\n",
        "    is_put=False,\n",
        "    is_american=True,\n",
        "    use_future_price=False,\n",
        "    N=15,\n",
        "    print_details=True\n",
        ")"
      ],
      "metadata": {
        "colab": {
          "base_uri": "https://localhost:8080/"
        },
        "id": "X2T1IF49khM4",
        "outputId": "af18d7fc-7afc-433c-8b82-f0e34ca0b9c2"
      },
      "execution_count": 19,
      "outputs": [
        {
          "output_type": "stream",
          "name": "stdout",
          "text": [
            "Stock Price at maturity: [178.77, 165.45, 153.12, 141.70, 131.14, 121.37, 112.32, 103.95, 96.20, 89.03, 82.39, 76.25, 70.57, 65.31, 60.44, 55.94]\n",
            "Option Value at maturity: [68.77, 55.45, 43.12, 31.70, 21.14, 11.37, 2.32, 0.00, 0.00, 0.00, 0.00, 0.00, 0.00, 0.00, 0.00, 0.00]\n",
            "Step: 14\n",
            "Stock Price: [171.98, 159.16, 147.30, 136.32, 126.16, 116.76, 108.05, 100.00, 92.55, 85.65, 79.26, 73.36, 67.89, 62.83, 58.15]\n",
            "Option Value: [61.99, 49.17, 37.31, 26.33, 16.18, 6.77, 1.14, 0.00, 0.00, 0.00, 0.00, 0.00, 0.00, 0.00, 0.00]\n",
            "Option Value (no early exercise): [61.99, 49.17, 37.31, 26.33, 16.18, 6.77, 1.14, 0.00, 0.00, 0.00, 0.00, 0.00, 0.00, 0.00, 0.00]\n",
            "Early Exercise: [False False False False False False False False False False False False\n",
            " False False False]\n",
            "Step: 13\n",
            "Stock Price: [165.45, 153.12, 141.70, 131.14, 121.37, 112.32, 103.95, 96.20, 89.03, 82.39, 76.25, 70.57, 65.31, 60.44]\n",
            "Option Value: [55.47, 43.14, 31.73, 21.17, 11.40, 3.91, 0.56, 0.00, 0.00, 0.00, 0.00, 0.00, 0.00, 0.00]\n",
            "Option Value (no early exercise): [55.47, 43.14, 31.73, 21.17, 11.40, 3.91, 0.56, 0.00, 0.00, 0.00, 0.00, 0.00, 0.00, 0.00]\n",
            "Early Exercise: [False False False False False False False False False False False False\n",
            " False False]\n",
            "Step: 12\n",
            "Stock Price: [159.16, 147.30, 136.32, 126.16, 116.76, 108.05, 100.00, 92.55, 85.65, 79.26, 73.36, 67.89, 62.83]\n",
            "Option Value: [49.19, 37.34, 26.36, 16.21, 7.60, 2.21, 0.28, 0.00, 0.00, 0.00, 0.00, 0.00, 0.00]\n",
            "Option Value (no early exercise): [49.19, 37.34, 26.36, 16.21, 7.60, 2.21, 0.28, 0.00, 0.00, 0.00, 0.00, 0.00, 0.00]\n",
            "Early Exercise: [False False False False False False False False False False False False\n",
            " False]\n",
            "Step: 11\n",
            "Stock Price: [153.12, 141.70, 131.14, 121.37, 112.32, 103.95, 96.20, 89.03, 82.39, 76.25, 70.57, 65.31]\n",
            "Option Value: [43.16, 31.76, 21.20, 11.83, 4.86, 1.23, 0.14, 0.00, 0.00, 0.00, 0.00, 0.00]\n",
            "Option Value (no early exercise): [43.16, 31.76, 21.20, 11.83, 4.86, 1.23, 0.14, 0.00, 0.00, 0.00, 0.00, 0.00]\n",
            "Early Exercise: [False False False False False False False False False False False False]\n",
            "Step: 10\n",
            "Stock Price: [147.30, 136.32, 126.16, 116.76, 108.05, 100.00, 92.55, 85.65, 79.26, 73.36, 67.89]\n",
            "Option Value: [37.36, 26.39, 16.44, 8.29, 3.02, 0.67, 0.07, 0.00, 0.00, 0.00, 0.00]\n",
            "Option Value (no early exercise): [37.36, 26.39, 16.44, 8.29, 3.02, 0.67, 0.07, 0.00, 0.00, 0.00, 0.00]\n",
            "Early Exercise: [False False False False False False False False False False False]\n",
            "Step: 9\n",
            "Stock Price: [141.70, 131.14, 121.37, 112.32, 103.95, 96.20, 89.03, 82.39, 76.25, 70.57]\n",
            "Option Value: [31.78, 21.33, 12.30, 5.61, 1.83, 0.37, 0.03, 0.00, 0.00, 0.00]\n",
            "Option Value (no early exercise): [31.78, 21.33, 12.30, 5.61, 1.83, 0.37, 0.03, 0.00, 0.00, 0.00]\n",
            "Early Exercise: [False False False False False False False False False False]\n",
            "Step: 8\n",
            "Stock Price: [136.32, 126.16, 116.76, 108.05, 100.00, 92.55, 85.65, 79.26, 73.36]\n",
            "Option Value: [26.47, 16.74, 8.90, 3.69, 1.09, 0.20, 0.02, 0.00, 0.00]\n",
            "Option Value (no early exercise): [26.47, 16.74, 8.90, 3.69, 1.09, 0.20, 0.02, 0.00, 0.00]\n",
            "Early Exercise: [False False False False False False False False False]\n",
            "Step: 7\n",
            "Stock Price: [131.14, 121.37, 112.32, 103.95, 96.20, 89.03, 82.39, 76.25]\n",
            "Option Value: [21.53, 12.76, 6.26, 2.37, 0.63, 0.11, 0.01, 0.00]\n",
            "Option Value (no early exercise): [21.53, 12.76, 6.26, 2.37, 0.63, 0.11, 0.01, 0.00]\n",
            "Early Exercise: [False False False False False False False False]\n",
            "Step: 6\n",
            "Stock Price: [126.16, 116.76, 108.05, 100.00, 92.55, 85.65, 79.26]\n",
            "Option Value: [17.07, 9.46, 4.28, 1.49, 0.37, 0.06, 0.00]\n",
            "Option Value (no early exercise): [17.07, 9.46, 4.28, 1.49, 0.37, 0.06, 0.00]\n",
            "Early Exercise: [False False False False False False False]\n",
            "Step: 5\n",
            "Stock Price: [121.37, 112.32, 103.95, 96.20, 89.03, 82.39]\n",
            "Option Value: [13.20, 6.83, 2.86, 0.92, 0.21, 0.03]\n",
            "Option Value (no early exercise): [13.20, 6.83, 2.86, 0.92, 0.21, 0.03]\n",
            "Early Exercise: [False False False False False False]\n",
            "Step: 4\n",
            "Stock Price: [116.76, 108.05, 100.00, 92.55, 85.65]\n",
            "Option Value: [9.96, 4.81, 1.88, 0.56, 0.12]\n",
            "Option Value (no early exercise): [9.96, 4.81, 1.88, 0.56, 0.12]\n",
            "Early Exercise: [False False False False False]\n",
            "Step: 3\n",
            "Stock Price: [112.32, 103.95, 96.20, 89.03]\n",
            "Option Value: [7.35, 3.32, 1.21, 0.33]\n",
            "Option Value (no early exercise): [7.35, 3.32, 1.21, 0.33]\n",
            "Early Exercise: [False False False False]\n",
            "Step: 2\n",
            "Stock Price: [108.05, 100.00, 92.55]\n",
            "Option Value: [5.30, 2.25, 0.76]\n",
            "Option Value (no early exercise): [5.30, 2.25, 0.76]\n",
            "Early Exercise: [False False False]\n",
            "Step: 1\n",
            "Stock Price: [103.95, 96.20]\n",
            "Option Value: [3.75, 1.49]\n",
            "Option Value (no early exercise): [3.75, 1.49]\n",
            "Early Exercise: [False False]\n",
            "Step: 0\n",
            "Stock Price: [100.00]\n",
            "Option Value: [2.60]\n",
            "Option Value (no early exercise): [2.60]\n",
            "Early Exercise: [False]\n"
          ]
        }
      ]
    },
    {
      "cell_type": "code",
      "source": [
        "# Q2\n",
        "put_price = option_price(\n",
        "    K=K,\n",
        "    T=T,\n",
        "    S_0=S_0,\n",
        "    r=r,\n",
        "    vol=vol,\n",
        "    c=c,\n",
        "    is_put=True,\n",
        "    is_american=True,\n",
        "    use_future_price=False,\n",
        "    N=15,\n",
        "    print_details=True\n",
        ")"
      ],
      "metadata": {
        "colab": {
          "base_uri": "https://localhost:8080/"
        },
        "id": "bu3vzIAflwo7",
        "outputId": "ff910001-3055-401b-81ed-3f3cd9d23b2e"
      },
      "execution_count": 20,
      "outputs": [
        {
          "output_type": "stream",
          "name": "stdout",
          "text": [
            "Stock Price at maturity: [178.77, 165.45, 153.12, 141.70, 131.14, 121.37, 112.32, 103.95, 96.20, 89.03, 82.39, 76.25, 70.57, 65.31, 60.44, 55.94]\n",
            "Option Value at maturity: [0.00, 0.00, 0.00, 0.00, 0.00, 0.00, 0.00, 6.05, 13.80, 20.97, 27.61, 33.75, 39.43, 44.69, 49.56, 54.06]\n",
            "Step: 14\n",
            "Stock Price: [171.98, 159.16, 147.30, 136.32, 126.16, 116.76, 108.05, 100.00, 92.55, 85.65, 79.26, 73.36, 67.89, 62.83, 58.15]\n",
            "Option Value: [0.00, 0.00, 0.00, 0.00, 0.00, 0.00, 3.07, 10.00, 17.45, 24.35, 30.74, 36.64, 42.11, 47.17, 51.85]\n",
            "Option Value (no early exercise): [0.00, 0.00, 0.00, 0.00, 0.00, 0.00, 3.07, 9.98, 17.43, 24.33, 30.71, 36.62, 42.09, 47.15, 51.83]\n",
            "Early Exercise: [False False False False False False False  True  True  True  True  True\n",
            "  True  True  True]\n",
            "Step: 13\n",
            "Stock Price: [165.45, 153.12, 141.70, 131.14, 121.37, 112.32, 103.95, 96.20, 89.03, 82.39, 76.25, 70.57, 65.31, 60.44]\n",
            "Option Value: [0.00, 0.00, 0.00, 0.00, 0.00, 1.56, 6.59, 13.80, 20.97, 27.61, 33.75, 39.43, 44.69, 49.56]\n",
            "Option Value (no early exercise): [0.00, 0.00, 0.00, 0.00, 0.00, 1.56, 6.59, 13.78, 20.95, 27.58, 33.72, 39.41, 44.66, 49.53]\n",
            "Early Exercise: [False False False False False False False  True  True  True  True  True\n",
            "  True  True]\n",
            "Step: 12\n",
            "Stock Price: [159.16, 147.30, 136.32, 126.16, 116.76, 108.05, 100.00, 92.55, 85.65, 79.26, 73.36, 67.89, 62.83]\n",
            "Option Value: [0.00, 0.00, 0.00, 0.00, 0.79, 4.11, 10.24, 17.45, 24.35, 30.74, 36.64, 42.11, 47.17]\n",
            "Option Value (no early exercise): [0.00, 0.00, 0.00, 0.00, 0.79, 4.11, 10.24, 17.43, 24.33, 30.71, 36.62, 42.09, 47.15]\n",
            "Early Exercise: [False False False False False False False  True  True  True  True  True\n",
            "  True]\n",
            "Step: 11\n",
            "Stock Price: [153.12, 141.70, 131.14, 121.37, 112.32, 103.95, 96.20, 89.03, 82.39, 76.25, 70.57, 65.31]\n",
            "Option Value: [0.00, 0.00, 0.00, 0.40, 2.47, 7.22, 13.90, 20.97, 27.61, 33.75, 39.43, 44.69]\n",
            "Option Value (no early exercise): [0.00, 0.00, 0.00, 0.40, 2.47, 7.22, 13.90, 20.95, 27.58, 33.72, 39.41, 44.66]\n",
            "Early Exercise: [False False False False False False False  True  True  True  True  True]\n",
            "Step: 10\n",
            "Stock Price: [147.30, 136.32, 126.16, 116.76, 108.05, 100.00, 92.55, 85.65, 79.26, 73.36, 67.89]\n",
            "Option Value: [0.00, 0.00, 0.20, 1.45, 4.88, 10.61, 17.48, 24.35, 30.74, 36.64, 42.11]\n",
            "Option Value (no early exercise): [0.00, 0.00, 0.20, 1.45, 4.88, 10.61, 17.48, 24.33, 30.71, 36.62, 42.09]\n",
            "Early Exercise: [False False False False False False False  True  True  True  True]\n",
            "Step: 9\n",
            "Stock Price: [141.70, 131.14, 121.37, 112.32, 103.95, 96.20, 89.03, 82.39, 76.25, 70.57]\n",
            "Option Value: [0.00, 0.10, 0.84, 3.19, 7.78, 14.09, 20.97, 27.61, 33.75, 39.43]\n",
            "Option Value (no early exercise): [0.00, 0.10, 0.84, 3.19, 7.78, 14.09, 20.96, 27.58, 33.72, 39.41]\n",
            "Early Exercise: [False False False False False False  True  True  True  True]\n",
            "Step: 8\n",
            "Stock Price: [136.32, 126.16, 116.76, 108.05, 100.00, 92.55, 85.65, 79.26, 73.36]\n",
            "Option Value: [0.05, 0.48, 2.03, 5.52, 10.98, 17.58, 24.35, 30.74, 36.64]\n",
            "Option Value (no early exercise): [0.05, 0.48, 2.03, 5.52, 10.98, 17.58, 24.33, 30.71, 36.62]\n",
            "Early Exercise: [False False False False False False  True  True  True]\n",
            "Step: 7\n",
            "Stock Price: [131.14, 121.37, 112.32, 103.95, 96.20, 89.03, 82.39, 76.25]\n",
            "Option Value: [0.27, 1.26, 3.80, 8.29, 14.32, 21.01, 27.61, 33.75]\n",
            "Option Value (no early exercise): [0.27, 1.26, 3.80, 8.29, 14.32, 21.01, 27.58, 33.72]\n",
            "Early Exercise: [False False False False False False  True  True]\n",
            "Step: 6\n",
            "Stock Price: [126.16, 116.76, 108.05, 100.00, 92.55, 85.65, 79.26]\n",
            "Option Value: [0.77, 2.55, 6.08, 11.35, 17.71, 24.35, 30.74]\n",
            "Option Value (no early exercise): [0.77, 2.55, 6.08, 11.35, 17.71, 24.35, 30.71]\n",
            "Early Exercise: [False False False False False  True  True]\n",
            "Step: 5\n",
            "Stock Price: [121.37, 112.32, 103.95, 96.20, 89.03, 82.39]\n",
            "Option Value: [1.67, 4.34, 8.75, 14.57, 21.07, 27.61]\n",
            "Option Value (no early exercise): [1.67, 4.34, 8.75, 14.57, 21.07, 27.58]\n",
            "Early Exercise: [False False False False False  True]\n",
            "Step: 4\n",
            "Stock Price: [116.76, 108.05, 100.00, 92.55, 85.65]\n",
            "Option Value: [3.03, 6.57, 11.70, 17.87, 24.38]\n",
            "Option Value (no early exercise): [3.03, 6.57, 11.70, 17.87, 24.38]\n",
            "Early Exercise: [False False False False False]\n",
            "Step: 3\n",
            "Stock Price: [112.32, 103.95, 96.20, 89.03]\n",
            "Option Value: [4.83, 9.17, 14.82, 21.17]\n",
            "Option Value (no early exercise): [4.83, 9.17, 14.82, 21.17]\n",
            "Early Exercise: [False False False False]\n",
            "Step: 2\n",
            "Stock Price: [108.05, 100.00, 92.55]\n",
            "Option Value: [7.03, 12.04, 18.04]\n",
            "Option Value (no early exercise): [7.03, 12.04, 18.04]\n",
            "Early Exercise: [False False False]\n",
            "Step: 1\n",
            "Stock Price: [103.95, 96.20]\n",
            "Option Value: [9.57, 15.08]\n",
            "Option Value (no early exercise): [9.57, 15.08]\n",
            "Early Exercise: [False False]\n",
            "Step: 0\n",
            "Stock Price: [100.00]\n",
            "Option Value: [12.36]\n",
            "Option Value (no early exercise): [12.36]\n",
            "Early Exercise: [False]\n"
          ]
        }
      ]
    },
    {
      "cell_type": "code",
      "source": [
        "# Q5\n",
        "# check put call parity\n",
        "# P + S exp(-cT) - C - K exp(-rT) should be 0\n",
        "\n",
        "put_price + S_0 * np.exp(-c * T) - call_price - K * np.exp(-r * T)"
      ],
      "metadata": {
        "colab": {
          "base_uri": "https://localhost:8080/"
        },
        "id": "mxS3RNxxl_Hr",
        "outputId": "b9bf50b3-b184-4dd9-8f69-3ad8369a249c"
      },
      "execution_count": 21,
      "outputs": [
        {
          "output_type": "execute_result",
          "data": {
            "text/plain": [
              "0.05464719286931086"
            ]
          },
          "metadata": {},
          "execution_count": 21
        }
      ]
    },
    {
      "cell_type": "code",
      "source": [
        "def price_option_on_future(\n",
        "    K: float,\n",
        "    T: float,\n",
        "    S_0: float,\n",
        "    r: float,\n",
        "    vol: float,\n",
        "    c: float,\n",
        "    is_put: bool,\n",
        "    is_american: bool,\n",
        "    N: int,\n",
        "    N_option: int,\n",
        "    print_details: bool = False\n",
        ") -> float:\n",
        "    \"\"\"\n",
        "    Prices an American option using a binomial tree.\n",
        "\n",
        "    Args:\n",
        "        K: Strike price.\n",
        "        T: Time to maturity of the underlying future.\n",
        "        S_0: Initial underlying price.\n",
        "        r: Risk-free interest rate.\n",
        "        vol: Volatility.\n",
        "        c: Dividend yield.\n",
        "        is_put: True for a put option, False for a call.\n",
        "        is_american: True for an American option, False for a European option.\n",
        "        N: Number of time steps.\n",
        "        N_option: Number of time steps of the option maturity.\n",
        "        print_details: Whether to print intermediate calculations.\n",
        "\n",
        "    Returns:\n",
        "        The price of the American option.\n",
        "    \"\"\"\n",
        "\n",
        "    assert N_option <= N\n",
        "\n",
        "    delta_t = T / N\n",
        "    u = np.exp(vol * np.sqrt(delta_t))\n",
        "    d = 1 / u\n",
        "    q = (np.exp((r - c) * delta_t) - d) / (u - d)\n",
        "    R = np.exp(r * delta_t)\n",
        "\n",
        "    def get_underlying_prices(i) -> np.ndarray:\n",
        "        return S_0 * np.power(u, i - np.arange(i + 1)) * np.power(d, np.arange(i + 1))\n",
        "\n",
        "    def get_payoffs(S: np.ndarray) -> np.ndarray:\n",
        "        return np.maximum(K - S, 0) if is_put else np.maximum(S - K, 0)\n",
        "\n",
        "    S = get_underlying_prices(N)\n",
        "    for i in range(N - 1, N_option - 1, -1):\n",
        "        S = (q * S[:-1] + (1 - q) * S[1:])\n",
        "\n",
        "    C = get_payoffs(S)\n",
        "\n",
        "    if print_details:\n",
        "        print(f\"Stock Price at maturity: {format_float_array(S)}\")\n",
        "        print(f\"Option Value at maturity: {format_float_array(C)}\")\n",
        "\n",
        "    for i in range(N_option - 1, -1, -1):\n",
        "        C_no_early_ex = (q * C[:-1] + (1 - q) * C[1:]) / R\n",
        "        if is_american:\n",
        "            S = (q * S[:-1] + (1 - q) * S[1:])\n",
        "            payoffs = get_payoffs(S)\n",
        "            should_early_ex = payoffs > C_no_early_ex\n",
        "            C = np.where(should_early_ex, payoffs, C_no_early_ex)\n",
        "        else:\n",
        "            C = C_no_early_ex\n",
        "\n",
        "        if print_details:\n",
        "            print(f\"Step: {i}\")\n",
        "            print(f\"Stock Price: {format_float_array(S)}\")\n",
        "            print(f\"Option Value: {format_float_array(C)}\")\n",
        "            if is_american:\n",
        "                print(f\"Option Value (no early exercise): {format_float_array(C_no_early_ex)}\")\n",
        "                print(f\"Early Exercise: {should_early_ex}\")\n",
        "\n",
        "    return C[0]\n"
      ],
      "metadata": {
        "id": "GPPauCkKBJTd"
      },
      "execution_count": 22,
      "outputs": []
    },
    {
      "cell_type": "code",
      "source": [
        "# Q6\n",
        "\n",
        "price_option_on_future(\n",
        "    K=K,\n",
        "    T=T,\n",
        "    S_0=S_0,\n",
        "    r=r,\n",
        "    vol=vol,\n",
        "    c=c,\n",
        "    is_put=False,\n",
        "    is_american=True,\n",
        "    N=15,\n",
        "    N_option=10,\n",
        "    print_details=True\n",
        ")"
      ],
      "metadata": {
        "colab": {
          "base_uri": "https://localhost:8080/"
        },
        "id": "itMxAaPfyueQ",
        "outputId": "6dfa0c56-59a5-4718-921c-03384d350c57"
      },
      "execution_count": 23,
      "outputs": [
        {
          "output_type": "stream",
          "name": "stdout",
          "text": [
            "Stock Price at maturity: [147.42, 136.43, 126.26, 116.85, 108.14, 100.08, 92.62, 85.72, 79.33, 73.42, 67.95]\n",
            "Option Value at maturity: [37.42, 26.43, 16.26, 6.85, 0.00, 0.00, 0.00, 0.00, 0.00, 0.00, 0.00]\n",
            "Step: 9\n",
            "Stock Price: [141.85, 131.27, 121.49, 112.43, 104.05, 96.30, 89.12, 82.48, 76.33, 70.64]\n",
            "Option Value: [31.85, 21.27, 11.49, 3.37, 0.00, 0.00, 0.00, 0.00, 0.00, 0.00]\n",
            "Option Value (no early exercise): [31.83, 21.27, 11.48, 3.37, 0.00, 0.00, 0.00, 0.00, 0.00, 0.00]\n",
            "Early Exercise: [ True  True  True False False False False False False False]\n",
            "Step: 8\n",
            "Stock Price: [136.48, 126.31, 116.89, 108.18, 100.12, 92.65, 85.75, 79.36, 73.44]\n",
            "Option Value: [26.48, 16.31, 7.37, 1.66, 0.00, 0.00, 0.00, 0.00, 0.00]\n",
            "Option Value (no early exercise): [26.47, 16.30, 7.37, 1.66, 0.00, 0.00, 0.00, 0.00, 0.00]\n",
            "Early Exercise: [ True  True False False False False False False False]\n",
            "Step: 7\n",
            "Stock Price: [131.32, 121.53, 112.47, 104.09, 96.33, 89.15, 82.50, 76.36]\n",
            "Option Value: [21.32, 11.77, 4.47, 0.82, 0.00, 0.00, 0.00, 0.00]\n",
            "Option Value (no early exercise): [21.31, 11.77, 4.47, 0.82, 0.00, 0.00, 0.00, 0.00]\n",
            "Early Exercise: [ True False False False False False False False]\n",
            "Step: 6\n",
            "Stock Price: [126.35, 116.93, 108.22, 100.15, 92.69, 85.78, 79.38]\n",
            "Option Value: [16.46, 8.06, 2.62, 0.40, 0.00, 0.00, 0.00]\n",
            "Option Value (no early exercise): [16.46, 8.06, 2.62, 0.40, 0.00, 0.00, 0.00]\n",
            "Early Exercise: [False False False False False False False]\n",
            "Step: 5\n",
            "Stock Price: [121.57, 112.51, 104.12, 96.36, 89.18, 82.53]\n",
            "Option Value: [12.19, 5.30, 1.49, 0.20, 0.00, 0.00]\n",
            "Option Value (no early exercise): [12.19, 5.30, 1.49, 0.20, 0.00, 0.00]\n",
            "Early Exercise: [False False False False False False]\n",
            "Step: 4\n",
            "Stock Price: [116.97, 108.25, 100.18, 92.72, 85.81]\n",
            "Option Value: [8.69, 3.36, 0.84, 0.10, 0.00]\n",
            "Option Value (no early exercise): [8.69, 3.36, 0.84, 0.10, 0.00]\n",
            "Early Exercise: [False False False False False]\n",
            "Step: 3\n",
            "Stock Price: [112.55, 104.16, 96.39, 89.21]\n",
            "Option Value: [5.98, 2.08, 0.46, 0.05]\n",
            "Option Value (no early exercise): [5.98, 2.08, 0.46, 0.05]\n",
            "Early Exercise: [False False False False]\n",
            "Step: 2\n",
            "Stock Price: [108.29, 100.22, 92.75]\n",
            "Option Value: [4.00, 1.26, 0.25]\n",
            "Option Value (no early exercise): [4.00, 1.26, 0.25]\n",
            "Early Exercise: [False False False]\n",
            "Step: 1\n",
            "Stock Price: [104.19, 96.43]\n",
            "Option Value: [2.61, 0.75]\n",
            "Option Value (no early exercise): [2.61, 0.75]\n",
            "Early Exercise: [False False]\n",
            "Step: 0\n",
            "Stock Price: [100.25]\n",
            "Option Value: [1.66]\n",
            "Option Value (no early exercise): [1.66]\n",
            "Early Exercise: [False]\n"
          ]
        },
        {
          "output_type": "execute_result",
          "data": {
            "text/plain": [
              "1.662672607788038"
            ]
          },
          "metadata": {},
          "execution_count": 23
        }
      ]
    },
    {
      "cell_type": "code",
      "source": [],
      "metadata": {
        "id": "bIkAzrSxyFSe"
      },
      "execution_count": null,
      "outputs": []
    }
  ]
}